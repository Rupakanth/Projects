{
 "cells": [
  {
   "cell_type": "code",
   "execution_count": 1,
   "metadata": {},
   "outputs": [],
   "source": [
    "import pandas as pd\n",
    "import numpy as np\n",
    "import matplotlib.pyplot as plt\n",
    "%matplotlib inline\n",
    "import seaborn as sns"
   ]
  },
  {
   "cell_type": "code",
   "execution_count": 2,
   "metadata": {},
   "outputs": [],
   "source": [
    "import nltk\n",
    "from nltk.tokenize import sent_tokenize,word_tokenize,RegexpTokenizer\n",
    "from nltk.stem import PorterStemmer\n",
    "from sklearn.feature_extraction.text import CountVectorizer"
   ]
  },
  {
   "cell_type": "code",
   "execution_count": 3,
   "metadata": {},
   "outputs": [],
   "source": [
    "from sklearn.metrics import confusion_matrix"
   ]
  },
  {
   "cell_type": "code",
   "execution_count": 4,
   "metadata": {},
   "outputs": [],
   "source": [
    "from sklearn.model_selection import train_test_split\n",
    "from sklearn.naive_bayes import MultinomialNB\n",
    "from sklearn.linear_model import LogisticRegression\n",
    "from sklearn.ensemble import RandomForestClassifier"
   ]
  },
  {
   "cell_type": "code",
   "execution_count": 5,
   "metadata": {},
   "outputs": [],
   "source": [
    "data = pd.read_csv('newsCorpora.csv',sep = '\\t', \n",
    "                   names = ['ID', 'TITLE', 'URL', 'PUBLISHER', 'CATEGORY', 'STORY', 'HOSTNAME', 'TIMESTAMP'])"
   ]
  },
  {
   "cell_type": "code",
   "execution_count": 6,
   "metadata": {},
   "outputs": [
    {
     "data": {
      "text/html": [
       "<div>\n",
       "<style scoped>\n",
       "    .dataframe tbody tr th:only-of-type {\n",
       "        vertical-align: middle;\n",
       "    }\n",
       "\n",
       "    .dataframe tbody tr th {\n",
       "        vertical-align: top;\n",
       "    }\n",
       "\n",
       "    .dataframe thead th {\n",
       "        text-align: right;\n",
       "    }\n",
       "</style>\n",
       "<table border=\"1\" class=\"dataframe\">\n",
       "  <thead>\n",
       "    <tr style=\"text-align: right;\">\n",
       "      <th></th>\n",
       "      <th>ID</th>\n",
       "      <th>TITLE</th>\n",
       "      <th>URL</th>\n",
       "      <th>PUBLISHER</th>\n",
       "      <th>CATEGORY</th>\n",
       "      <th>STORY</th>\n",
       "      <th>HOSTNAME</th>\n",
       "      <th>TIMESTAMP</th>\n",
       "    </tr>\n",
       "  </thead>\n",
       "  <tbody>\n",
       "    <tr>\n",
       "      <td>182600</td>\n",
       "      <td>182936</td>\n",
       "      <td>Kendall Jenner's Sleek Cat Eye Liner At The 20...</td>\n",
       "      <td>http://hollywoodlife.com/2014/05/05/kendall-je...</td>\n",
       "      <td>Hollywood Life</td>\n",
       "      <td>e</td>\n",
       "      <td>dbfJRt2YOiGnSoMC7S8yBd9gQohiM</td>\n",
       "      <td>hollywoodlife.com</td>\n",
       "      <td>1399382222758</td>\n",
       "    </tr>\n",
       "    <tr>\n",
       "      <td>181703</td>\n",
       "      <td>182039</td>\n",
       "      <td>AMD to combine 64-bit x86 and ARM chip archite...</td>\n",
       "      <td>http://www.theinquirer.net/inquirer/news/23431...</td>\n",
       "      <td>Inquirer</td>\n",
       "      <td>t</td>\n",
       "      <td>djYshNh5skKYi9MltCwElKVNQRB0M</td>\n",
       "      <td>www.theinquirer.net</td>\n",
       "      <td>1399378131602</td>\n",
       "    </tr>\n",
       "    <tr>\n",
       "      <td>172464</td>\n",
       "      <td>172800</td>\n",
       "      <td>Justin Bieber and Kendall Jenner might collabo...</td>\n",
       "      <td>http://entertainment.ofwnow.com/celebrity-news...</td>\n",
       "      <td>OFW News On Web</td>\n",
       "      <td>e</td>\n",
       "      <td>dFXtL6lz5yh_I9MX3a4zodKcvkSiM</td>\n",
       "      <td>entertainment.ofwnow.com</td>\n",
       "      <td>1398856027976</td>\n",
       "    </tr>\n",
       "    <tr>\n",
       "      <td>316323</td>\n",
       "      <td>316783</td>\n",
       "      <td>One Man Ballet Based on the Life of Michael Ja...</td>\n",
       "      <td>http://www.digitaljournal.com/pr/2013111</td>\n",
       "      <td>DigitalJournal.com</td>\n",
       "      <td>e</td>\n",
       "      <td>djRFAtFbYm9cAKMclCzhE-q9Zh7ZM</td>\n",
       "      <td>www.digitaljournal.com</td>\n",
       "      <td>1403715915522</td>\n",
       "    </tr>\n",
       "    <tr>\n",
       "      <td>404031</td>\n",
       "      <td>404550</td>\n",
       "      <td>Prayer vigil held for Charlotte woman fighting...</td>\n",
       "      <td>http://www.wsoctv.com/news/news/local/prayer-v...</td>\n",
       "      <td>WSOC Charlotte</td>\n",
       "      <td>m</td>\n",
       "      <td>d1WmICMngDmqaaM73nLBG_cAQFKIM</td>\n",
       "      <td>www.wsoctv.com</td>\n",
       "      <td>1406803461296</td>\n",
       "    </tr>\n",
       "  </tbody>\n",
       "</table>\n",
       "</div>"
      ],
      "text/plain": [
       "            ID                                              TITLE  \\\n",
       "182600  182936  Kendall Jenner's Sleek Cat Eye Liner At The 20...   \n",
       "181703  182039  AMD to combine 64-bit x86 and ARM chip archite...   \n",
       "172464  172800  Justin Bieber and Kendall Jenner might collabo...   \n",
       "316323  316783  One Man Ballet Based on the Life of Michael Ja...   \n",
       "404031  404550  Prayer vigil held for Charlotte woman fighting...   \n",
       "\n",
       "                                                      URL           PUBLISHER  \\\n",
       "182600  http://hollywoodlife.com/2014/05/05/kendall-je...      Hollywood Life   \n",
       "181703  http://www.theinquirer.net/inquirer/news/23431...            Inquirer   \n",
       "172464  http://entertainment.ofwnow.com/celebrity-news...     OFW News On Web   \n",
       "316323           http://www.digitaljournal.com/pr/2013111  DigitalJournal.com   \n",
       "404031  http://www.wsoctv.com/news/news/local/prayer-v...      WSOC Charlotte   \n",
       "\n",
       "       CATEGORY                          STORY                  HOSTNAME  \\\n",
       "182600        e  dbfJRt2YOiGnSoMC7S8yBd9gQohiM         hollywoodlife.com   \n",
       "181703        t  djYshNh5skKYi9MltCwElKVNQRB0M       www.theinquirer.net   \n",
       "172464        e  dFXtL6lz5yh_I9MX3a4zodKcvkSiM  entertainment.ofwnow.com   \n",
       "316323        e  djRFAtFbYm9cAKMclCzhE-q9Zh7ZM    www.digitaljournal.com   \n",
       "404031        m  d1WmICMngDmqaaM73nLBG_cAQFKIM            www.wsoctv.com   \n",
       "\n",
       "            TIMESTAMP  \n",
       "182600  1399382222758  \n",
       "181703  1399378131602  \n",
       "172464  1398856027976  \n",
       "316323  1403715915522  \n",
       "404031  1406803461296  "
      ]
     },
     "execution_count": 6,
     "metadata": {},
     "output_type": "execute_result"
    }
   ],
   "source": [
    "data.sample(5)"
   ]
  },
  {
   "cell_type": "code",
   "execution_count": 7,
   "metadata": {},
   "outputs": [],
   "source": [
    "data = data.drop(columns = ['HOSTNAME','STORY','URL','TIMESTAMP'])"
   ]
  },
  {
   "cell_type": "code",
   "execution_count": 8,
   "metadata": {},
   "outputs": [
    {
     "name": "stdout",
     "output_type": "stream",
     "text": [
      "<class 'pandas.core.frame.DataFrame'>\n",
      "RangeIndex: 422419 entries, 0 to 422418\n",
      "Data columns (total 4 columns):\n",
      "ID           422419 non-null int64\n",
      "TITLE        422419 non-null object\n",
      "PUBLISHER    422417 non-null object\n",
      "CATEGORY     422419 non-null object\n",
      "dtypes: int64(1), object(3)\n",
      "memory usage: 12.9+ MB\n"
     ]
    }
   ],
   "source": [
    "data.info()"
   ]
  },
  {
   "cell_type": "markdown",
   "metadata": {},
   "source": [
    "There are no null values in the data"
   ]
  },
  {
   "cell_type": "code",
   "execution_count": 9,
   "metadata": {},
   "outputs": [],
   "source": [
    "data = data.set_index(['ID'])"
   ]
  },
  {
   "cell_type": "code",
   "execution_count": 10,
   "metadata": {},
   "outputs": [
    {
     "data": {
      "image/png": "[encoded data removed]",
      "text/plain": [
       "<Figure size 432x288 with 1 Axes>"
      ]
     },
     "metadata": {
      "needs_background": "light"
     },
     "output_type": "display_data"
    }
   ],
   "source": [
    "sns.countplot(data.CATEGORY);"
   ]
  },
  {
   "cell_type": "markdown",
   "metadata": {},
   "source": [
    "most of the news belong to the entertainment(e) category "
   ]
  },
  {
   "cell_type": "code",
   "execution_count": 11,
   "metadata": {},
   "outputs": [
    {
     "data": {
      "text/html": [
       "<div>\n",
       "<style scoped>\n",
       "    .dataframe tbody tr th:only-of-type {\n",
       "        vertical-align: middle;\n",
       "    }\n",
       "\n",
       "    .dataframe tbody tr th {\n",
       "        vertical-align: top;\n",
       "    }\n",
       "\n",
       "    .dataframe thead th {\n",
       "        text-align: right;\n",
       "    }\n",
       "</style>\n",
       "<table border=\"1\" class=\"dataframe\">\n",
       "  <thead>\n",
       "    <tr style=\"text-align: right;\">\n",
       "      <th></th>\n",
       "      <th>TITLE</th>\n",
       "      <th>PUBLISHER</th>\n",
       "      <th>CATEGORY</th>\n",
       "    </tr>\n",
       "    <tr>\n",
       "      <th>ID</th>\n",
       "      <th></th>\n",
       "      <th></th>\n",
       "      <th></th>\n",
       "    </tr>\n",
       "  </thead>\n",
       "  <tbody>\n",
       "    <tr>\n",
       "      <td>72410</td>\n",
       "      <td>'Harry Potter' Spinoff 'Fantastic Beasts' Will...</td>\n",
       "      <td>Headlines \\&amp; Global News</td>\n",
       "      <td>e</td>\n",
       "    </tr>\n",
       "    <tr>\n",
       "      <td>273889</td>\n",
       "      <td>4 New iOS 8 Features that Will Save You Money</td>\n",
       "      <td>Go Banking Rates</td>\n",
       "      <td>t</td>\n",
       "    </tr>\n",
       "    <tr>\n",
       "      <td>86067</td>\n",
       "      <td>Comedian John Pinette dead of pulmonary emboli...</td>\n",
       "      <td>Examiner.com</td>\n",
       "      <td>e</td>\n",
       "    </tr>\n",
       "    <tr>\n",
       "      <td>411015</td>\n",
       "      <td>Hilary Duff talks \"really difficult\" split fro...</td>\n",
       "      <td>SheKnows.com</td>\n",
       "      <td>e</td>\n",
       "    </tr>\n",
       "    <tr>\n",
       "      <td>304408</td>\n",
       "      <td>Bjork's Biophilia to be adopted into European ...</td>\n",
       "      <td>Hollywood.com</td>\n",
       "      <td>e</td>\n",
       "    </tr>\n",
       "  </tbody>\n",
       "</table>\n",
       "</div>"
      ],
      "text/plain": [
       "                                                    TITLE  \\\n",
       "ID                                                          \n",
       "72410   'Harry Potter' Spinoff 'Fantastic Beasts' Will...   \n",
       "273889      4 New iOS 8 Features that Will Save You Money   \n",
       "86067   Comedian John Pinette dead of pulmonary emboli...   \n",
       "411015  Hilary Duff talks \"really difficult\" split fro...   \n",
       "304408  Bjork's Biophilia to be adopted into European ...   \n",
       "\n",
       "                       PUBLISHER CATEGORY  \n",
       "ID                                         \n",
       "72410   Headlines \\& Global News        e  \n",
       "273889          Go Banking Rates        t  \n",
       "86067               Examiner.com        e  \n",
       "411015              SheKnows.com        e  \n",
       "304408             Hollywood.com        e  "
      ]
     },
     "execution_count": 11,
     "metadata": {},
     "output_type": "execute_result"
    }
   ],
   "source": [
    "data.sample(5)"
   ]
  },
  {
   "cell_type": "code",
   "execution_count": 12,
   "metadata": {},
   "outputs": [],
   "source": [
    "tokenizer =  RegexpTokenizer(r'[A-Za-z]+')"
   ]
  },
  {
   "cell_type": "code",
   "execution_count": 13,
   "metadata": {},
   "outputs": [
    {
     "data": {
      "text/plain": [
       "['Fox', 'I', 'don', 't', 'have', 'Many', 'Friends']"
      ]
     },
     "execution_count": 13,
     "metadata": {},
     "output_type": "execute_result"
    }
   ],
   "source": [
    "tokenizer.tokenize(data.TITLE[358422])"
   ]
  },
  {
   "cell_type": "code",
   "execution_count": 14,
   "metadata": {},
   "outputs": [],
   "source": [
    "data['wordtoken_TITLE'] = data.TITLE.map(lambda x : tokenizer.tokenize(x))"
   ]
  },
  {
   "cell_type": "code",
   "execution_count": 15,
   "metadata": {},
   "outputs": [
    {
     "data": {
      "text/html": [
       "<div>\n",
       "<style scoped>\n",
       "    .dataframe tbody tr th:only-of-type {\n",
       "        vertical-align: middle;\n",
       "    }\n",
       "\n",
       "    .dataframe tbody tr th {\n",
       "        vertical-align: top;\n",
       "    }\n",
       "\n",
       "    .dataframe thead th {\n",
       "        text-align: right;\n",
       "    }\n",
       "</style>\n",
       "<table border=\"1\" class=\"dataframe\">\n",
       "  <thead>\n",
       "    <tr style=\"text-align: right;\">\n",
       "      <th></th>\n",
       "      <th>TITLE</th>\n",
       "      <th>PUBLISHER</th>\n",
       "      <th>CATEGORY</th>\n",
       "      <th>wordtoken_TITLE</th>\n",
       "    </tr>\n",
       "    <tr>\n",
       "      <th>ID</th>\n",
       "      <th></th>\n",
       "      <th></th>\n",
       "      <th></th>\n",
       "      <th></th>\n",
       "    </tr>\n",
       "  </thead>\n",
       "  <tbody>\n",
       "    <tr>\n",
       "      <td>308933</td>\n",
       "      <td>The strength of Microsoft's Surface Pro 3: It'...</td>\n",
       "      <td>ITProPortal</td>\n",
       "      <td>t</td>\n",
       "      <td>[The, strength, of, Microsoft, s, Surface, Pro...</td>\n",
       "    </tr>\n",
       "    <tr>\n",
       "      <td>292525</td>\n",
       "      <td>Mick Jagger Called 'Grotesquely Disrespectful'...</td>\n",
       "      <td>Music Times</td>\n",
       "      <td>e</td>\n",
       "      <td>[Mick, Jagger, Called, Grotesquely, Disrespect...</td>\n",
       "    </tr>\n",
       "    <tr>\n",
       "      <td>77622</td>\n",
       "      <td>[Happy Birthday] Gmail Is 10 Years Old Today, ...</td>\n",
       "      <td>Android Police</td>\n",
       "      <td>t</td>\n",
       "      <td>[Happy, Birthday, Gmail, Is, Years, Old, Today...</td>\n",
       "    </tr>\n",
       "    <tr>\n",
       "      <td>384831</td>\n",
       "      <td>Koster: Missouri E-Book Consumers May See Slic...</td>\n",
       "      <td>OzarksFirst.com</td>\n",
       "      <td>t</td>\n",
       "      <td>[Koster, Missouri, E, Book, Consumers, May, Se...</td>\n",
       "    </tr>\n",
       "    <tr>\n",
       "      <td>291213</td>\n",
       "      <td>Steve Jobs Didn't Believe there was a Market f...</td>\n",
       "      <td>PadGadget</td>\n",
       "      <td>t</td>\n",
       "      <td>[Steve, Jobs, Didn, t, Believe, there, was, a,...</td>\n",
       "    </tr>\n",
       "  </tbody>\n",
       "</table>\n",
       "</div>"
      ],
      "text/plain": [
       "                                                    TITLE        PUBLISHER  \\\n",
       "ID                                                                           \n",
       "308933  The strength of Microsoft's Surface Pro 3: It'...      ITProPortal   \n",
       "292525  Mick Jagger Called 'Grotesquely Disrespectful'...      Music Times   \n",
       "77622   [Happy Birthday] Gmail Is 10 Years Old Today, ...   Android Police   \n",
       "384831  Koster: Missouri E-Book Consumers May See Slic...  OzarksFirst.com   \n",
       "291213  Steve Jobs Didn't Believe there was a Market f...        PadGadget   \n",
       "\n",
       "       CATEGORY                                    wordtoken_TITLE  \n",
       "ID                                                                  \n",
       "308933        t  [The, strength, of, Microsoft, s, Surface, Pro...  \n",
       "292525        e  [Mick, Jagger, Called, Grotesquely, Disrespect...  \n",
       "77622         t  [Happy, Birthday, Gmail, Is, Years, Old, Today...  \n",
       "384831        t  [Koster, Missouri, E, Book, Consumers, May, Se...  \n",
       "291213        t  [Steve, Jobs, Didn, t, Believe, there, was, a,...  "
      ]
     },
     "execution_count": 15,
     "metadata": {},
     "output_type": "execute_result"
    }
   ],
   "source": [
    "data.sample(5)"
   ]
  },
  {
   "cell_type": "code",
   "execution_count": 16,
   "metadata": {},
   "outputs": [],
   "source": [
    "ps = PorterStemmer()"
   ]
  },
  {
   "cell_type": "code",
   "execution_count": 17,
   "metadata": {},
   "outputs": [
    {
     "data": {
      "text/plain": [
       "['jessica',\n",
       " 'simpson',\n",
       " 'and',\n",
       " 'eric',\n",
       " 'johnson',\n",
       " 'exchang',\n",
       " 'vow',\n",
       " 'at',\n",
       " 'san',\n",
       " 'ysidro',\n",
       " 'ranch',\n",
       " 'in',\n",
       " 'front']"
      ]
     },
     "execution_count": 17,
     "metadata": {},
     "output_type": "execute_result"
    }
   ],
   "source": [
    "[ps.stem(word) for word in data.wordtoken_TITLE[363672]]\n"
   ]
  },
  {
   "cell_type": "code",
   "execution_count": 18,
   "metadata": {},
   "outputs": [],
   "source": [
    "data['text_stemmed'] = data['wordtoken_TITLE'].map(lambda l:[ps.stem(word) for word in l])"
   ]
  },
  {
   "cell_type": "code",
   "execution_count": 19,
   "metadata": {},
   "outputs": [
    {
     "data": {
      "text/html": [
       "<div>\n",
       "<style scoped>\n",
       "    .dataframe tbody tr th:only-of-type {\n",
       "        vertical-align: middle;\n",
       "    }\n",
       "\n",
       "    .dataframe tbody tr th {\n",
       "        vertical-align: top;\n",
       "    }\n",
       "\n",
       "    .dataframe thead th {\n",
       "        text-align: right;\n",
       "    }\n",
       "</style>\n",
       "<table border=\"1\" class=\"dataframe\">\n",
       "  <thead>\n",
       "    <tr style=\"text-align: right;\">\n",
       "      <th></th>\n",
       "      <th>TITLE</th>\n",
       "      <th>PUBLISHER</th>\n",
       "      <th>CATEGORY</th>\n",
       "      <th>wordtoken_TITLE</th>\n",
       "      <th>text_stemmed</th>\n",
       "    </tr>\n",
       "    <tr>\n",
       "      <th>ID</th>\n",
       "      <th></th>\n",
       "      <th></th>\n",
       "      <th></th>\n",
       "      <th></th>\n",
       "      <th></th>\n",
       "    </tr>\n",
       "  </thead>\n",
       "  <tbody>\n",
       "    <tr>\n",
       "      <td>357592</td>\n",
       "      <td>Music Publishing Roundup 7.4.14: Songza + Goog...</td>\n",
       "      <td>hypebot.com</td>\n",
       "      <td>t</td>\n",
       "      <td>[Music, Publishing, Roundup, Songza, Google, N...</td>\n",
       "      <td>[music, publish, roundup, songza, googl, neils...</td>\n",
       "    </tr>\n",
       "    <tr>\n",
       "      <td>40630</td>\n",
       "      <td>Lady Gaga bares all for new music video GUY</td>\n",
       "      <td>India Today</td>\n",
       "      <td>e</td>\n",
       "      <td>[Lady, Gaga, bares, all, for, new, music, vide...</td>\n",
       "      <td>[ladi, gaga, bare, all, for, new, music, video...</td>\n",
       "    </tr>\n",
       "    <tr>\n",
       "      <td>182800</td>\n",
       "      <td>Ben Affleck pinched for card counting in Vegas</td>\n",
       "      <td>Sports Memo \\(blog\\)</td>\n",
       "      <td>e</td>\n",
       "      <td>[Ben, Affleck, pinched, for, card, counting, i...</td>\n",
       "      <td>[ben, affleck, pinch, for, card, count, in, vega]</td>\n",
       "    </tr>\n",
       "    <tr>\n",
       "      <td>315980</td>\n",
       "      <td>What Do You Think Of Facebook's Slingshot?</td>\n",
       "      <td>Gizmodo India</td>\n",
       "      <td>t</td>\n",
       "      <td>[What, Do, You, Think, Of, Facebook, s, Slings...</td>\n",
       "      <td>[what, Do, you, think, Of, facebook, s, slings...</td>\n",
       "    </tr>\n",
       "    <tr>\n",
       "      <td>421743</td>\n",
       "      <td>Actor Matt Damon uses toilet water to support ...</td>\n",
       "      <td>AL.com</td>\n",
       "      <td>e</td>\n",
       "      <td>[Actor, Matt, Damon, uses, toilet, water, to, ...</td>\n",
       "      <td>[actor, matt, damon, use, toilet, water, to, s...</td>\n",
       "    </tr>\n",
       "  </tbody>\n",
       "</table>\n",
       "</div>"
      ],
      "text/plain": [
       "                                                    TITLE  \\\n",
       "ID                                                          \n",
       "357592  Music Publishing Roundup 7.4.14: Songza + Goog...   \n",
       "40630         Lady Gaga bares all for new music video GUY   \n",
       "182800     Ben Affleck pinched for card counting in Vegas   \n",
       "315980         What Do You Think Of Facebook's Slingshot?   \n",
       "421743  Actor Matt Damon uses toilet water to support ...   \n",
       "\n",
       "                   PUBLISHER CATEGORY  \\\n",
       "ID                                      \n",
       "357592           hypebot.com        t   \n",
       "40630            India Today        e   \n",
       "182800  Sports Memo \\(blog\\)        e   \n",
       "315980         Gizmodo India        t   \n",
       "421743                AL.com        e   \n",
       "\n",
       "                                          wordtoken_TITLE  \\\n",
       "ID                                                          \n",
       "357592  [Music, Publishing, Roundup, Songza, Google, N...   \n",
       "40630   [Lady, Gaga, bares, all, for, new, music, vide...   \n",
       "182800  [Ben, Affleck, pinched, for, card, counting, i...   \n",
       "315980  [What, Do, You, Think, Of, Facebook, s, Slings...   \n",
       "421743  [Actor, Matt, Damon, uses, toilet, water, to, ...   \n",
       "\n",
       "                                             text_stemmed  \n",
       "ID                                                         \n",
       "357592  [music, publish, roundup, songza, googl, neils...  \n",
       "40630   [ladi, gaga, bare, all, for, new, music, video...  \n",
       "182800  [ben, affleck, pinch, for, card, count, in, vega]  \n",
       "315980  [what, Do, you, think, Of, facebook, s, slings...  \n",
       "421743  [actor, matt, damon, use, toilet, water, to, s...  "
      ]
     },
     "execution_count": 19,
     "metadata": {},
     "output_type": "execute_result"
    }
   ],
   "source": [
    "data.sample(5)"
   ]
  },
  {
   "cell_type": "code",
   "execution_count": 20,
   "metadata": {},
   "outputs": [
    {
     "data": {
      "text/plain": [
       "'justin bieber sung at hi manag s wed at the weekend'"
      ]
     },
     "execution_count": 20,
     "metadata": {},
     "output_type": "execute_result"
    }
   ],
   "source": [
    "(' ').join(data.text_stemmed[373180])"
   ]
  },
  {
   "cell_type": "code",
   "execution_count": 21,
   "metadata": {},
   "outputs": [],
   "source": [
    "data['TITLE_Sent'] = data['text_stemmed'].map(lambda l: (' ').join(l))"
   ]
  },
  {
   "cell_type": "code",
   "execution_count": 22,
   "metadata": {},
   "outputs": [
    {
     "data": {
      "text/html": [
       "<div>\n",
       "<style scoped>\n",
       "    .dataframe tbody tr th:only-of-type {\n",
       "        vertical-align: middle;\n",
       "    }\n",
       "\n",
       "    .dataframe tbody tr th {\n",
       "        vertical-align: top;\n",
       "    }\n",
       "\n",
       "    .dataframe thead th {\n",
       "        text-align: right;\n",
       "    }\n",
       "</style>\n",
       "<table border=\"1\" class=\"dataframe\">\n",
       "  <thead>\n",
       "    <tr style=\"text-align: right;\">\n",
       "      <th></th>\n",
       "      <th>TITLE</th>\n",
       "      <th>PUBLISHER</th>\n",
       "      <th>CATEGORY</th>\n",
       "      <th>wordtoken_TITLE</th>\n",
       "      <th>text_stemmed</th>\n",
       "      <th>TITLE_Sent</th>\n",
       "    </tr>\n",
       "    <tr>\n",
       "      <th>ID</th>\n",
       "      <th></th>\n",
       "      <th></th>\n",
       "      <th></th>\n",
       "      <th></th>\n",
       "      <th></th>\n",
       "      <th></th>\n",
       "    </tr>\n",
       "  </thead>\n",
       "  <tbody>\n",
       "    <tr>\n",
       "      <td>20640</td>\n",
       "      <td>Long-delayed study of marijuana for traumatize...</td>\n",
       "      <td>The Tribune</td>\n",
       "      <td>m</td>\n",
       "      <td>[Long, delayed, study, of, marijuana, for, tra...</td>\n",
       "      <td>[long, delay, studi, of, marijuana, for, traum...</td>\n",
       "      <td>long delay studi of marijuana for traumat vete...</td>\n",
       "    </tr>\n",
       "    <tr>\n",
       "      <td>133680</td>\n",
       "      <td>Sony Unveils SHAREfactory, Confirms Digital Pr...</td>\n",
       "      <td>Side Mission</td>\n",
       "      <td>t</td>\n",
       "      <td>[Sony, Unveils, SHAREfactory, Confirms, Digita...</td>\n",
       "      <td>[soni, unveil, sharefactori, confirm, digit, p...</td>\n",
       "      <td>soni unveil sharefactori confirm digit pre loa...</td>\n",
       "    </tr>\n",
       "    <tr>\n",
       "      <td>314072</td>\n",
       "      <td>“American Idol”: JLo, Keith Urban, Harry Conni...</td>\n",
       "      <td>PopStop TV</td>\n",
       "      <td>e</td>\n",
       "      <td>[American, Idol, JLo, Keith, Urban, Harry, Con...</td>\n",
       "      <td>[american, idol, jlo, keith, urban, harri, con...</td>\n",
       "      <td>american idol jlo keith urban harri connick Jr...</td>\n",
       "    </tr>\n",
       "    <tr>\n",
       "      <td>419398</td>\n",
       "      <td>Why is Avago Technologies an Ideal Investment ...</td>\n",
       "      <td>GuruFocus.com</td>\n",
       "      <td>t</td>\n",
       "      <td>[Why, is, Avago, Technologies, an, Ideal, Inve...</td>\n",
       "      <td>[whi, is, avago, technolog, an, ideal, invest,...</td>\n",
       "      <td>whi is avago technolog an ideal invest candid</td>\n",
       "    </tr>\n",
       "    <tr>\n",
       "      <td>390257</td>\n",
       "      <td>Jon Stewart Dresses As Princess Leia, Defeats ...</td>\n",
       "      <td>Huffington Post \\(satire\\)</td>\n",
       "      <td>e</td>\n",
       "      <td>[Jon, Stewart, Dresses, As, Princess, Leia, De...</td>\n",
       "      <td>[jon, stewart, dress, As, princess, leia, defe...</td>\n",
       "      <td>jon stewart dress As princess leia defeat step...</td>\n",
       "    </tr>\n",
       "  </tbody>\n",
       "</table>\n",
       "</div>"
      ],
      "text/plain": [
       "                                                    TITLE  \\\n",
       "ID                                                          \n",
       "20640   Long-delayed study of marijuana for traumatize...   \n",
       "133680  Sony Unveils SHAREfactory, Confirms Digital Pr...   \n",
       "314072  “American Idol”: JLo, Keith Urban, Harry Conni...   \n",
       "419398  Why is Avago Technologies an Ideal Investment ...   \n",
       "390257  Jon Stewart Dresses As Princess Leia, Defeats ...   \n",
       "\n",
       "                         PUBLISHER CATEGORY  \\\n",
       "ID                                            \n",
       "20640                  The Tribune        m   \n",
       "133680                Side Mission        t   \n",
       "314072                  PopStop TV        e   \n",
       "419398               GuruFocus.com        t   \n",
       "390257  Huffington Post \\(satire\\)        e   \n",
       "\n",
       "                                          wordtoken_TITLE  \\\n",
       "ID                                                          \n",
       "20640   [Long, delayed, study, of, marijuana, for, tra...   \n",
       "133680  [Sony, Unveils, SHAREfactory, Confirms, Digita...   \n",
       "314072  [American, Idol, JLo, Keith, Urban, Harry, Con...   \n",
       "419398  [Why, is, Avago, Technologies, an, Ideal, Inve...   \n",
       "390257  [Jon, Stewart, Dresses, As, Princess, Leia, De...   \n",
       "\n",
       "                                             text_stemmed  \\\n",
       "ID                                                          \n",
       "20640   [long, delay, studi, of, marijuana, for, traum...   \n",
       "133680  [soni, unveil, sharefactori, confirm, digit, p...   \n",
       "314072  [american, idol, jlo, keith, urban, harri, con...   \n",
       "419398  [whi, is, avago, technolog, an, ideal, invest,...   \n",
       "390257  [jon, stewart, dress, As, princess, leia, defe...   \n",
       "\n",
       "                                               TITLE_Sent  \n",
       "ID                                                         \n",
       "20640   long delay studi of marijuana for traumat vete...  \n",
       "133680  soni unveil sharefactori confirm digit pre loa...  \n",
       "314072  american idol jlo keith urban harri connick Jr...  \n",
       "419398      whi is avago technolog an ideal invest candid  \n",
       "390257  jon stewart dress As princess leia defeat step...  "
      ]
     },
     "execution_count": 22,
     "metadata": {},
     "output_type": "execute_result"
    }
   ],
   "source": [
    "data.sample(5)"
   ]
  },
  {
   "cell_type": "code",
   "execution_count": 23,
   "metadata": {},
   "outputs": [],
   "source": [
    "data = data[['PUBLISHER','TITLE_Sent','CATEGORY']]\n"
   ]
  },
  {
   "cell_type": "markdown",
   "metadata": {},
   "source": [
    "combining PUBLISHER and TITLE_Sent columns"
   ]
  },
  {
   "cell_type": "code",
   "execution_count": 24,
   "metadata": {},
   "outputs": [],
   "source": [
    "data['TITLE_PUBLISHER'] = data['PUBLISHER'] +' ' + data['TITLE_Sent']"
   ]
  },
  {
   "cell_type": "code",
   "execution_count": 25,
   "metadata": {},
   "outputs": [],
   "source": [
    "data = data[['TITLE_PUBLISHER','CATEGORY']]"
   ]
  },
  {
   "cell_type": "code",
   "execution_count": 26,
   "metadata": {},
   "outputs": [
    {
     "data": {
      "text/html": [
       "<div>\n",
       "<style scoped>\n",
       "    .dataframe tbody tr th:only-of-type {\n",
       "        vertical-align: middle;\n",
       "    }\n",
       "\n",
       "    .dataframe tbody tr th {\n",
       "        vertical-align: top;\n",
       "    }\n",
       "\n",
       "    .dataframe thead th {\n",
       "        text-align: right;\n",
       "    }\n",
       "</style>\n",
       "<table border=\"1\" class=\"dataframe\">\n",
       "  <thead>\n",
       "    <tr style=\"text-align: right;\">\n",
       "      <th></th>\n",
       "      <th>TITLE_PUBLISHER</th>\n",
       "      <th>CATEGORY</th>\n",
       "    </tr>\n",
       "    <tr>\n",
       "      <th>ID</th>\n",
       "      <th></th>\n",
       "      <th></th>\n",
       "    </tr>\n",
       "  </thead>\n",
       "  <tbody>\n",
       "    <tr>\n",
       "      <td>1</td>\n",
       "      <td>Los Angeles Times fed offici say weak data cau...</td>\n",
       "      <td>b</td>\n",
       "    </tr>\n",
       "    <tr>\n",
       "      <td>2</td>\n",
       "      <td>Livemint fed s charl plosser see high bar for ...</td>\n",
       "      <td>b</td>\n",
       "    </tr>\n",
       "    <tr>\n",
       "      <td>3</td>\n",
       "      <td>IFA Magazine US open stock fall after fed offi...</td>\n",
       "      <td>b</td>\n",
       "    </tr>\n",
       "    <tr>\n",
       "      <td>4</td>\n",
       "      <td>IFA Magazine fed risk fall behind the curv cha...</td>\n",
       "      <td>b</td>\n",
       "    </tr>\n",
       "    <tr>\n",
       "      <td>5</td>\n",
       "      <td>Moneynews fed s plosser nasti weather ha curb ...</td>\n",
       "      <td>b</td>\n",
       "    </tr>\n",
       "  </tbody>\n",
       "</table>\n",
       "</div>"
      ],
      "text/plain": [
       "                                      TITLE_PUBLISHER CATEGORY\n",
       "ID                                                            \n",
       "1   Los Angeles Times fed offici say weak data cau...        b\n",
       "2   Livemint fed s charl plosser see high bar for ...        b\n",
       "3   IFA Magazine US open stock fall after fed offi...        b\n",
       "4   IFA Magazine fed risk fall behind the curv cha...        b\n",
       "5   Moneynews fed s plosser nasti weather ha curb ...        b"
      ]
     },
     "execution_count": 26,
     "metadata": {},
     "output_type": "execute_result"
    }
   ],
   "source": [
    "data.head()"
   ]
  },
  {
   "cell_type": "code",
   "execution_count": 27,
   "metadata": {},
   "outputs": [
    {
     "data": {
      "text/plain": [
       "TITLE_PUBLISHER    2\n",
       "CATEGORY           0\n",
       "dtype: int64"
      ]
     },
     "execution_count": 27,
     "metadata": {},
     "output_type": "execute_result"
    }
   ],
   "source": [
    "data.isna().sum()"
   ]
  },
  {
   "cell_type": "code",
   "execution_count": 28,
   "metadata": {},
   "outputs": [],
   "source": [
    "data = data.dropna()"
   ]
  },
  {
   "cell_type": "code",
   "execution_count": 29,
   "metadata": {},
   "outputs": [],
   "source": [
    "cv = CountVectorizer(stop_words= 'english')"
   ]
  },
  {
   "cell_type": "code",
   "execution_count": 30,
   "metadata": {},
   "outputs": [
    {
     "data": {
      "text/plain": [
       "CountVectorizer(analyzer='word', binary=False, decode_error='strict',\n",
       "                dtype=<class 'numpy.int64'>, encoding='utf-8', input='content',\n",
       "                lowercase=True, max_df=1.0, max_features=None, min_df=1,\n",
       "                ngram_range=(1, 1), preprocessor=None, stop_words='english',\n",
       "                strip_accents=None, token_pattern='(?u)\\\\b\\\\w\\\\w+\\\\b',\n",
       "                tokenizer=None, vocabulary=None)"
      ]
     },
     "execution_count": 30,
     "metadata": {},
     "output_type": "execute_result"
    }
   ],
   "source": [
    "cv.fit(data['TITLE_PUBLISHER'])"
   ]
  },
  {
   "cell_type": "code",
   "execution_count": 31,
   "metadata": {},
   "outputs": [],
   "source": [
    "out = cv.transform(data['TITLE_PUBLISHER'])"
   ]
  },
  {
   "cell_type": "code",
   "execution_count": 32,
   "metadata": {},
   "outputs": [
    {
     "data": {
      "text/plain": [
       "(422417, 39598)"
      ]
     },
     "execution_count": 32,
     "metadata": {},
     "output_type": "execute_result"
    }
   ],
   "source": [
    "out.shape"
   ]
  },
  {
   "cell_type": "code",
   "execution_count": 33,
   "metadata": {},
   "outputs": [
    {
     "data": {
      "text/plain": [
       "39598"
      ]
     },
     "execution_count": 33,
     "metadata": {},
     "output_type": "execute_result"
    }
   ],
   "source": [
    "len(cv.vocabulary_)"
   ]
  },
  {
   "cell_type": "code",
   "execution_count": 34,
   "metadata": {},
   "outputs": [],
   "source": [
    "trainX,testX,trainY,testY = train_test_split(out,data['CATEGORY'])"
   ]
  },
  {
   "cell_type": "code",
   "execution_count": 36,
   "metadata": {},
   "outputs": [],
   "source": [
    "algos = { 'MultinomialNB' : MultinomialNB(),\n",
    "        'LogisticRegression':LogisticRegression(),\n",
    "        'RandomForestClassifier':RandomForestClassifier(n_estimators=100)\n",
    "        }"
   ]
  },
  {
   "cell_type": "code",
   "execution_count": 37,
   "metadata": {},
   "outputs": [
    {
     "name": "stdout",
     "output_type": "stream",
     "text": [
      "Training Accuracy of  MultinomialNB 0.9265368736032726\n",
      "Testing Accuracy of  MultinomialNB 0.9199090952132948\n",
      "[[26155   479   543  1838]\n",
      " [  608 36272   382   749]\n",
      " [  465   330 10361   172]\n",
      " [ 1996   524   372 24359]]\n",
      "****************************************\n"
     ]
    },
    {
     "name": "stderr",
     "output_type": "stream",
     "text": [
      "C:\\ProgramData\\Anaconda3\\lib\\site-packages\\sklearn\\linear_model\\logistic.py:432: FutureWarning: Default solver will be changed to 'lbfgs' in 0.22. Specify a solver to silence this warning.\n",
      "  FutureWarning)\n",
      "C:\\ProgramData\\Anaconda3\\lib\\site-packages\\sklearn\\linear_model\\logistic.py:469: FutureWarning: Default multi_class will be changed to 'auto' in 0.22. Specify the multi_class option to silence this warning.\n",
      "  \"this warning.\", FutureWarning)\n"
     ]
    },
    {
     "name": "stdout",
     "output_type": "stream",
     "text": [
      "Training Accuracy of  LogisticRegression 0.9592660631541734\n",
      "Testing Accuracy of  LogisticRegression 0.9442829411486199\n",
      "[[26854   433   247  1481]\n",
      " [  401 37152   129   329]\n",
      " [  434   262 10477   155]\n",
      " [ 1461   439   113 25238]]\n",
      "****************************************\n",
      "Training Accuracy of  RandomForestClassifier 0.9988005504841988\n",
      "Testing Accuracy of  RandomForestClassifier 0.929207897353345\n",
      "[[26730   825   231  1229]\n",
      " [  673 36876   146   316]\n",
      " [  675   583  9864   206]\n",
      " [ 1557   873   162 24659]]\n",
      "****************************************\n"
     ]
    }
   ],
   "source": [
    "for name, algo in algos.items():\n",
    "    estimator = algo\n",
    "    estimator.fit(trainX,trainY)\n",
    "    print('Training Accuracy of ',name, estimator.score(trainX,trainY))\n",
    "    print('Testing Accuracy of ',name, estimator.score(testX,testY))\n",
    "    y_pred = estimator.predict(testX)\n",
    "    con_mat = confusion_matrix(y_pred= y_pred, y_true = testY)\n",
    "    print(con_mat)\n",
    "    print('*'*40)\n",
    "    \n",
    "    "
   ]
  },
  {
   "cell_type": "markdown",
   "metadata": {},
   "source": [
    "* Logistic Regression has better acuuracy"
   ]
  }
 ],
 "metadata": {
  "kernelspec": {
   "display_name": "Python 3",
   "language": "python",
   "name": "python3"
  },
  "language_info": {
   "codemirror_mode": {
    "name": "ipython",
    "version": 3
   },
   "file_extension": ".py",
   "mimetype": "text/x-python",
   "name": "python",
   "nbconvert_exporter": "python",
   "pygments_lexer": "ipython3",
   "version": "3.7.4"
  }
 },
 "nbformat": 4,
 "nbformat_minor": 2
}
